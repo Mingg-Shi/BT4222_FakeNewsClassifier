{
 "cells": [
  {
   "cell_type": "code",
   "execution_count": 52,
   "metadata": {},
   "outputs": [],
   "source": [
    "import pandas as pd\n",
    "import numpy as np\n",
    "import sklearn as sk"
   ]
  },
  {
   "cell_type": "code",
   "execution_count": 53,
   "metadata": {},
   "outputs": [],
   "source": [
    "df1 = pd.read_csv(\"politifact_with_bio_data.csv\")"
   ]
  },
  {
   "cell_type": "code",
   "execution_count": 54,
   "metadata": {},
   "outputs": [
    {
     "data": {
      "text/html": [
       "<div>\n",
       "<style scoped>\n",
       "    .dataframe tbody tr th:only-of-type {\n",
       "        vertical-align: middle;\n",
       "    }\n",
       "\n",
       "    .dataframe tbody tr th {\n",
       "        vertical-align: top;\n",
       "    }\n",
       "\n",
       "    .dataframe thead th {\n",
       "        text-align: right;\n",
       "    }\n",
       "</style>\n",
       "<table border=\"1\" class=\"dataframe\">\n",
       "  <thead>\n",
       "    <tr style=\"text-align: right;\">\n",
       "      <th></th>\n",
       "      <th>Unnamed: 0.1</th>\n",
       "      <th>index</th>\n",
       "      <th>Unnamed: 0</th>\n",
       "      <th>name</th>\n",
       "      <th>claim date</th>\n",
       "      <th>claim source</th>\n",
       "      <th>claim</th>\n",
       "      <th>issue</th>\n",
       "      <th>accuracy rating</th>\n",
       "      <th>id.bioguide</th>\n",
       "      <th>id.wikipedia</th>\n",
       "      <th>bio.gender</th>\n",
       "      <th>bio.birthday</th>\n",
       "      <th>type</th>\n",
       "      <th>party</th>\n",
       "      <th>start</th>\n",
       "      <th>end</th>\n",
       "      <th>state</th>\n",
       "      <th>full name</th>\n",
       "      <th>accuracy</th>\n",
       "    </tr>\n",
       "  </thead>\n",
       "  <tbody>\n",
       "    <tr>\n",
       "      <th>0</th>\n",
       "      <td>0</td>\n",
       "      <td>2</td>\n",
       "      <td>2</td>\n",
       "      <td>Mark Kelly</td>\n",
       "      <td>August 5, 2022</td>\n",
       "      <td>an ad</td>\n",
       "      <td>Blake Masters “wants to pass a national ban on...</td>\n",
       "      <td>abortion</td>\n",
       "      <td>mostly-true</td>\n",
       "      <td>K000377</td>\n",
       "      <td>Mark Kelly</td>\n",
       "      <td>M</td>\n",
       "      <td>21/2/1964</td>\n",
       "      <td>sen</td>\n",
       "      <td>Democrat</td>\n",
       "      <td>2/12/2020</td>\n",
       "      <td>3/1/2023</td>\n",
       "      <td>AZ</td>\n",
       "      <td>Mark Kelly</td>\n",
       "      <td>1</td>\n",
       "    </tr>\n",
       "    <tr>\n",
       "      <th>1</th>\n",
       "      <td>1</td>\n",
       "      <td>9</td>\n",
       "      <td>9</td>\n",
       "      <td>Mariannette Miller-Meeks</td>\n",
       "      <td>July 17, 2022</td>\n",
       "      <td>a newsletter</td>\n",
       "      <td>The Democrats’ Women’s Health Protection Act o...</td>\n",
       "      <td>abortion</td>\n",
       "      <td>barely-true</td>\n",
       "      <td>M001215</td>\n",
       "      <td>Mariannette Miller-Meeks</td>\n",
       "      <td>F</td>\n",
       "      <td>6/9/1955</td>\n",
       "      <td>rep</td>\n",
       "      <td>Republican</td>\n",
       "      <td>3/1/2021</td>\n",
       "      <td>3/1/2023</td>\n",
       "      <td>IA</td>\n",
       "      <td>Mariannette Miller-Meeks</td>\n",
       "      <td>0</td>\n",
       "    </tr>\n",
       "    <tr>\n",
       "      <th>2</th>\n",
       "      <td>2</td>\n",
       "      <td>25</td>\n",
       "      <td>25</td>\n",
       "      <td>Catherine Cortez Masto</td>\n",
       "      <td>June 14, 2022</td>\n",
       "      <td>an ad</td>\n",
       "      <td>Adam Laxalt \"supports eliminating Nevada's pro...</td>\n",
       "      <td>abortion</td>\n",
       "      <td>half-true</td>\n",
       "      <td>C001113</td>\n",
       "      <td>Catherine Cortez Masto</td>\n",
       "      <td>F</td>\n",
       "      <td>29/3/1964</td>\n",
       "      <td>sen</td>\n",
       "      <td>Democrat</td>\n",
       "      <td>3/1/2017</td>\n",
       "      <td>3/1/2023</td>\n",
       "      <td>NV</td>\n",
       "      <td>Catherine Cortez Masto</td>\n",
       "      <td>0</td>\n",
       "    </tr>\n",
       "    <tr>\n",
       "      <th>3</th>\n",
       "      <td>3</td>\n",
       "      <td>28</td>\n",
       "      <td>28</td>\n",
       "      <td>Tammy Baldwin</td>\n",
       "      <td>May 4, 2022</td>\n",
       "      <td>TV interview</td>\n",
       "      <td>\"Our Supreme Court has never taken away a cons...</td>\n",
       "      <td>abortion</td>\n",
       "      <td>FALSE</td>\n",
       "      <td>B001230</td>\n",
       "      <td>Tammy Baldwin</td>\n",
       "      <td>F</td>\n",
       "      <td>11/2/1962</td>\n",
       "      <td>rep</td>\n",
       "      <td>Democrat</td>\n",
       "      <td>6/1/1999</td>\n",
       "      <td>3/1/2001</td>\n",
       "      <td>WI</td>\n",
       "      <td>Tammy Baldwin</td>\n",
       "      <td>0</td>\n",
       "    </tr>\n",
       "    <tr>\n",
       "      <th>4</th>\n",
       "      <td>4</td>\n",
       "      <td>29</td>\n",
       "      <td>29</td>\n",
       "      <td>Ron Johnson</td>\n",
       "      <td>May 11, 2022</td>\n",
       "      <td>News release</td>\n",
       "      <td>In the immediate wake of a fire and vandalism ...</td>\n",
       "      <td>abortion</td>\n",
       "      <td>barely-true</td>\n",
       "      <td>J000293</td>\n",
       "      <td>Ron Johnson (Wisconsin politician)</td>\n",
       "      <td>M</td>\n",
       "      <td>8/4/1955</td>\n",
       "      <td>sen</td>\n",
       "      <td>Republican</td>\n",
       "      <td>5/1/2011</td>\n",
       "      <td>3/1/2017</td>\n",
       "      <td>WI</td>\n",
       "      <td>Ron Johnson</td>\n",
       "      <td>0</td>\n",
       "    </tr>\n",
       "  </tbody>\n",
       "</table>\n",
       "</div>"
      ],
      "text/plain": [
       "   Unnamed: 0.1  index  Unnamed: 0                      name      claim date  \\\n",
       "0             0      2           2                Mark Kelly  August 5, 2022   \n",
       "1             1      9           9  Mariannette Miller-Meeks   July 17, 2022   \n",
       "2             2     25          25    Catherine Cortez Masto   June 14, 2022   \n",
       "3             3     28          28             Tammy Baldwin     May 4, 2022   \n",
       "4             4     29          29               Ron Johnson    May 11, 2022   \n",
       "\n",
       "   claim source                                              claim     issue  \\\n",
       "0         an ad  Blake Masters “wants to pass a national ban on...  abortion   \n",
       "1  a newsletter  The Democrats’ Women’s Health Protection Act o...  abortion   \n",
       "2         an ad  Adam Laxalt \"supports eliminating Nevada's pro...  abortion   \n",
       "3  TV interview  \"Our Supreme Court has never taken away a cons...  abortion   \n",
       "4  News release  In the immediate wake of a fire and vandalism ...  abortion   \n",
       "\n",
       "  accuracy rating id.bioguide                        id.wikipedia bio.gender  \\\n",
       "0     mostly-true     K000377                          Mark Kelly          M   \n",
       "1     barely-true     M001215            Mariannette Miller-Meeks          F   \n",
       "2       half-true     C001113              Catherine Cortez Masto          F   \n",
       "3           FALSE     B001230                       Tammy Baldwin          F   \n",
       "4     barely-true     J000293  Ron Johnson (Wisconsin politician)          M   \n",
       "\n",
       "  bio.birthday type       party      start       end state  \\\n",
       "0    21/2/1964  sen    Democrat  2/12/2020  3/1/2023    AZ   \n",
       "1     6/9/1955  rep  Republican   3/1/2021  3/1/2023    IA   \n",
       "2    29/3/1964  sen    Democrat   3/1/2017  3/1/2023    NV   \n",
       "3    11/2/1962  rep    Democrat   6/1/1999  3/1/2001    WI   \n",
       "4     8/4/1955  sen  Republican   5/1/2011  3/1/2017    WI   \n",
       "\n",
       "                  full name  accuracy  \n",
       "0                Mark Kelly         1  \n",
       "1  Mariannette Miller-Meeks         0  \n",
       "2    Catherine Cortez Masto         0  \n",
       "3             Tammy Baldwin         0  \n",
       "4               Ron Johnson         0  "
      ]
     },
     "execution_count": 54,
     "metadata": {},
     "output_type": "execute_result"
    }
   ],
   "source": [
    "df1.head()"
   ]
  },
  {
   "cell_type": "markdown",
   "metadata": {},
   "source": [
    "##### Drop rows of the same claim but categorised under different issues to avoid data leakage when splitting"
   ]
  },
  {
   "cell_type": "code",
   "execution_count": 79,
   "metadata": {},
   "outputs": [
    {
     "data": {
      "text/plain": [
       "(6294, 25)"
      ]
     },
     "execution_count": 79,
     "metadata": {},
     "output_type": "execute_result"
    }
   ],
   "source": [
    "df1.shape"
   ]
  },
  {
   "cell_type": "code",
   "execution_count": 74,
   "metadata": {},
   "outputs": [
    {
     "data": {
      "text/plain": [
       "3958"
      ]
     },
     "execution_count": 74,
     "metadata": {},
     "output_type": "execute_result"
    }
   ],
   "source": [
    "df1['claim'].unique().__len__()"
   ]
  },
  {
   "cell_type": "code",
   "execution_count": 82,
   "metadata": {},
   "outputs": [],
   "source": [
    "df1.drop_duplicates(subset=['claim'], keep='first', inplace=True)"
   ]
  },
  {
   "cell_type": "code",
   "execution_count": 84,
   "metadata": {},
   "outputs": [
    {
     "data": {
      "text/plain": [
       "(3958, 25)"
      ]
     },
     "execution_count": 84,
     "metadata": {},
     "output_type": "execute_result"
    }
   ],
   "source": [
    "df1.shape"
   ]
  },
  {
   "cell_type": "code",
   "execution_count": 85,
   "metadata": {},
   "outputs": [
    {
     "data": {
      "text/html": [
       "<div>\n",
       "<style scoped>\n",
       "    .dataframe tbody tr th:only-of-type {\n",
       "        vertical-align: middle;\n",
       "    }\n",
       "\n",
       "    .dataframe tbody tr th {\n",
       "        vertical-align: top;\n",
       "    }\n",
       "\n",
       "    .dataframe thead th {\n",
       "        text-align: right;\n",
       "    }\n",
       "</style>\n",
       "<table border=\"1\" class=\"dataframe\">\n",
       "  <thead>\n",
       "    <tr style=\"text-align: right;\">\n",
       "      <th></th>\n",
       "      <th>claim date</th>\n",
       "      <th>claim date formatted</th>\n",
       "      <th>bio.birthday</th>\n",
       "      <th>birthdate formatted</th>\n",
       "      <th>start</th>\n",
       "      <th>start formatted</th>\n",
       "      <th>end</th>\n",
       "      <th>end formatted</th>\n",
       "    </tr>\n",
       "  </thead>\n",
       "  <tbody>\n",
       "    <tr>\n",
       "      <th>3401</th>\n",
       "      <td>February 13, 2017</td>\n",
       "      <td>2017-02-13</td>\n",
       "      <td>1/1/1954</td>\n",
       "      <td>1954-01-01</td>\n",
       "      <td>5/1/1993</td>\n",
       "      <td>1993-01-05</td>\n",
       "      <td>3/1/1995</td>\n",
       "      <td>1995-01-03</td>\n",
       "    </tr>\n",
       "    <tr>\n",
       "      <th>3764</th>\n",
       "      <td>November 19, 2010</td>\n",
       "      <td>2010-11-19</td>\n",
       "      <td>13/5/1952</td>\n",
       "      <td>1952-05-13</td>\n",
       "      <td>3/1/1983</td>\n",
       "      <td>1983-01-03</td>\n",
       "      <td>3/1/1985</td>\n",
       "      <td>1985-01-03</td>\n",
       "    </tr>\n",
       "    <tr>\n",
       "      <th>2503</th>\n",
       "      <td>March 11, 2011</td>\n",
       "      <td>2011-03-11</td>\n",
       "      <td>4/8/1961</td>\n",
       "      <td>1961-08-04</td>\n",
       "      <td>4/1/2005</td>\n",
       "      <td>2005-01-04</td>\n",
       "      <td>16/11/2008</td>\n",
       "      <td>2008-11-16</td>\n",
       "    </tr>\n",
       "    <tr>\n",
       "      <th>204</th>\n",
       "      <td>March 7, 2019</td>\n",
       "      <td>2019-03-07</td>\n",
       "      <td>26/5/1982</td>\n",
       "      <td>1982-05-26</td>\n",
       "      <td>3/1/2019</td>\n",
       "      <td>2019-01-03</td>\n",
       "      <td>3/1/2021</td>\n",
       "      <td>2021-01-03</td>\n",
       "    </tr>\n",
       "    <tr>\n",
       "      <th>2144</th>\n",
       "      <td>November 5, 2020</td>\n",
       "      <td>2020-11-05</td>\n",
       "      <td>1/7/1964</td>\n",
       "      <td>1964-07-01</td>\n",
       "      <td>17/9/2019</td>\n",
       "      <td>2019-09-17</td>\n",
       "      <td>3/1/2021</td>\n",
       "      <td>2021-01-03</td>\n",
       "    </tr>\n",
       "  </tbody>\n",
       "</table>\n",
       "</div>"
      ],
      "text/plain": [
       "             claim date claim date formatted bio.birthday birthdate formatted  \\\n",
       "3401  February 13, 2017           2017-02-13     1/1/1954          1954-01-01   \n",
       "3764  November 19, 2010           2010-11-19    13/5/1952          1952-05-13   \n",
       "2503     March 11, 2011           2011-03-11     4/8/1961          1961-08-04   \n",
       "204       March 7, 2019           2019-03-07    26/5/1982          1982-05-26   \n",
       "2144   November 5, 2020           2020-11-05     1/7/1964          1964-07-01   \n",
       "\n",
       "          start start formatted         end end formatted  \n",
       "3401   5/1/1993      1993-01-05    3/1/1995    1995-01-03  \n",
       "3764   3/1/1983      1983-01-03    3/1/1985    1985-01-03  \n",
       "2503   4/1/2005      2005-01-04  16/11/2008    2008-11-16  \n",
       "204    3/1/2019      2019-01-03    3/1/2021    2021-01-03  \n",
       "2144  17/9/2019      2019-09-17    3/1/2021    2021-01-03  "
      ]
     },
     "execution_count": 85,
     "metadata": {},
     "output_type": "execute_result"
    }
   ],
   "source": [
    "# https://towardsdatascience.com/clean-a-messy-date-column-with-mixed-formats-in-pandas-1a88808edbf7\n",
    "\n",
    "# standardise the format of all date columnns: YYYY-MM-DD\n",
    "df1['claim date formatted'] = pd.to_datetime(df1['claim date'],infer_datetime_format=True)\n",
    "df1['birthdate formatted'] = pd.to_datetime(df1['bio.birthday'],dayfirst=True)\n",
    "df1['start formatted'] = pd.to_datetime(df1['start'],dayfirst=True)\n",
    "df1['end formatted'] = pd.to_datetime(df1['end'],dayfirst=True)\n",
    "\n",
    "df1[['claim date', 'claim date formatted', 'bio.birthday', 'birthdate formatted', 'start', 'start formatted',\n",
    "    'end', 'end formatted']].sample(5) # standardised date format: YYYY-MM-DD"
   ]
  },
  {
   "cell_type": "code",
   "execution_count": 86,
   "metadata": {},
   "outputs": [
    {
     "data": {
      "text/html": [
       "<div>\n",
       "<style scoped>\n",
       "    .dataframe tbody tr th:only-of-type {\n",
       "        vertical-align: middle;\n",
       "    }\n",
       "\n",
       "    .dataframe tbody tr th {\n",
       "        vertical-align: top;\n",
       "    }\n",
       "\n",
       "    .dataframe thead th {\n",
       "        text-align: right;\n",
       "    }\n",
       "</style>\n",
       "<table border=\"1\" class=\"dataframe\">\n",
       "  <thead>\n",
       "    <tr style=\"text-align: right;\">\n",
       "      <th></th>\n",
       "      <th>birthdate formatted</th>\n",
       "      <th>claim date formatted</th>\n",
       "      <th>claimmer age</th>\n",
       "    </tr>\n",
       "  </thead>\n",
       "  <tbody>\n",
       "    <tr>\n",
       "      <th>2315</th>\n",
       "      <td>1947-08-24</td>\n",
       "      <td>2010-10-08</td>\n",
       "      <td>63</td>\n",
       "    </tr>\n",
       "    <tr>\n",
       "      <th>776</th>\n",
       "      <td>1952-11-09</td>\n",
       "      <td>2021-01-08</td>\n",
       "      <td>69</td>\n",
       "    </tr>\n",
       "    <tr>\n",
       "      <th>4284</th>\n",
       "      <td>1949-05-03</td>\n",
       "      <td>2018-03-29</td>\n",
       "      <td>69</td>\n",
       "    </tr>\n",
       "    <tr>\n",
       "      <th>597</th>\n",
       "      <td>1978-09-14</td>\n",
       "      <td>2021-09-13</td>\n",
       "      <td>43</td>\n",
       "    </tr>\n",
       "    <tr>\n",
       "      <th>3837</th>\n",
       "      <td>1947-03-12</td>\n",
       "      <td>2012-01-26</td>\n",
       "      <td>65</td>\n",
       "    </tr>\n",
       "    <tr>\n",
       "      <th>2834</th>\n",
       "      <td>1971-05-28</td>\n",
       "      <td>2010-10-24</td>\n",
       "      <td>39</td>\n",
       "    </tr>\n",
       "    <tr>\n",
       "      <th>1251</th>\n",
       "      <td>1967-07-14</td>\n",
       "      <td>2014-01-21</td>\n",
       "      <td>47</td>\n",
       "    </tr>\n",
       "    <tr>\n",
       "      <th>3828</th>\n",
       "      <td>1966-07-28</td>\n",
       "      <td>2015-03-22</td>\n",
       "      <td>49</td>\n",
       "    </tr>\n",
       "    <tr>\n",
       "      <th>3649</th>\n",
       "      <td>1960-06-22</td>\n",
       "      <td>2019-09-17</td>\n",
       "      <td>59</td>\n",
       "    </tr>\n",
       "    <tr>\n",
       "      <th>2254</th>\n",
       "      <td>1960-04-22</td>\n",
       "      <td>2014-01-24</td>\n",
       "      <td>54</td>\n",
       "    </tr>\n",
       "  </tbody>\n",
       "</table>\n",
       "</div>"
      ],
      "text/plain": [
       "     birthdate formatted claim date formatted  claimmer age\n",
       "2315          1947-08-24           2010-10-08            63\n",
       "776           1952-11-09           2021-01-08            69\n",
       "4284          1949-05-03           2018-03-29            69\n",
       "597           1978-09-14           2021-09-13            43\n",
       "3837          1947-03-12           2012-01-26            65\n",
       "2834          1971-05-28           2010-10-24            39\n",
       "1251          1967-07-14           2014-01-21            47\n",
       "3828          1966-07-28           2015-03-22            49\n",
       "3649          1960-06-22           2019-09-17            59\n",
       "2254          1960-04-22           2014-01-24            54"
      ]
     },
     "execution_count": 86,
     "metadata": {},
     "output_type": "execute_result"
    }
   ],
   "source": [
    "def getAgeWhenClaimWasMade(birthdate, claimdate):\n",
    "    birth_year = birthdate.strftime('%Y-%m-%d').split('-')[0]\n",
    "    claim_year = claimdate.strftime('%Y-%m-%d').split('-')[0]\n",
    "    curr_age = int(claim_year) - int(birth_year)\n",
    "    return curr_age\n",
    "df1['claimmer age'] = df1.apply(lambda x: getAgeWhenClaimWasMade(x['birthdate formatted'], x['claim date formatted']), axis=1)\n",
    "df1[['birthdate formatted', 'claim date formatted', 'claimmer age']].sample(10)"
   ]
  },
  {
   "cell_type": "code",
   "execution_count": 87,
   "metadata": {},
   "outputs": [
    {
     "data": {
      "text/plain": [
       "array([25, 26, 29, 30, 31, 32, 33, 34, 35, 36, 37, 38, 39, 40, 41, 42, 43,\n",
       "       44, 45, 46, 47, 48, 49, 50, 51, 52, 53, 54, 55, 56, 57, 58, 59, 60,\n",
       "       61, 62, 63, 64, 65, 66, 67, 68, 69, 70, 71, 72, 73, 74, 75, 76, 77,\n",
       "       78, 79, 80, 81, 82, 83, 84, 85, 86, 87, 88, 92, 94])"
      ]
     },
     "execution_count": 87,
     "metadata": {},
     "output_type": "execute_result"
    }
   ],
   "source": [
    "np.sort(df1['claimmer age'].unique())"
   ]
  },
  {
   "cell_type": "markdown",
   "metadata": {},
   "source": [
    "<div class=\"alert alert-warning\">\n",
    "- Notice abnormally old ages!"
   ]
  },
  {
   "cell_type": "code",
   "execution_count": 88,
   "metadata": {},
   "outputs": [
    {
     "data": {
      "text/html": [
       "<div>\n",
       "<style scoped>\n",
       "    .dataframe tbody tr th:only-of-type {\n",
       "        vertical-align: middle;\n",
       "    }\n",
       "\n",
       "    .dataframe tbody tr th {\n",
       "        vertical-align: top;\n",
       "    }\n",
       "\n",
       "    .dataframe thead th {\n",
       "        text-align: right;\n",
       "    }\n",
       "</style>\n",
       "<table border=\"1\" class=\"dataframe\">\n",
       "  <thead>\n",
       "    <tr style=\"text-align: right;\">\n",
       "      <th></th>\n",
       "      <th>name</th>\n",
       "      <th>claimmer age</th>\n",
       "      <th>claim source</th>\n",
       "      <th>birthdate formatted</th>\n",
       "      <th>start formatted</th>\n",
       "      <th>end formatted</th>\n",
       "      <th>claim date formatted</th>\n",
       "    </tr>\n",
       "  </thead>\n",
       "  <tbody>\n",
       "  </tbody>\n",
       "</table>\n",
       "</div>"
      ],
      "text/plain": [
       "Empty DataFrame\n",
       "Columns: [name, claimmer age, claim source, birthdate formatted, start formatted, end formatted, claim date formatted]\n",
       "Index: []"
      ]
     },
     "execution_count": 88,
     "metadata": {},
     "output_type": "execute_result"
    }
   ],
   "source": [
    "# check thru politicians with dates that don't make sense\n",
    "# https://bioguide.congress.gov/\n",
    "abnormal_age_idx = df1[df1['claimmer age'] > 94].index\n",
    "abnormal_age_names = df1.iloc[abnormal_age_idx].groupby('name').size().index\n",
    "df1.iloc[abnormal_age_idx].drop_duplicates(subset='name')[['name','claimmer age', 'claim source',\n",
    "                                                           'birthdate formatted',\n",
    "                                                          'start formatted', 'end formatted','claim date formatted']] # 20 names to manually check thru and correct the dates"
   ]
  },
  {
   "cell_type": "markdown",
   "metadata": {},
   "source": [
    "<div class=\"alert alert-warning\">\n",
    "    \n",
    "- The above are the politicians with anbormally old ages.\n",
    "- After checking on https://bioguide.congress.gov/, confirmed that they have already passed on (way) before claim date. \n",
    "- To drop these invalid rows."
   ]
  },
  {
   "cell_type": "code",
   "execution_count": 89,
   "metadata": {},
   "outputs": [
    {
     "name": "stdout",
     "output_type": "stream",
     "text": [
      "There are 0 unique invalid politicians.\n",
      "\n",
      "They are found on 0 rows which are to be dropped.\n"
     ]
    }
   ],
   "source": [
    "print(f'There are {len(abnormal_age_names)} unique invalid politicians.\\n')\n",
    "print(f'They are found on {len(abnormal_age_idx)} rows which are to be dropped.')"
   ]
  },
  {
   "cell_type": "markdown",
   "metadata": {},
   "source": [
    "Upon inspection and googling we learn that this was due to a mismatch when joining the two tables(bio data and Politifact)."
   ]
  },
  {
   "cell_type": "code",
   "execution_count": 90,
   "metadata": {},
   "outputs": [
    {
     "data": {
      "text/html": [
       "<div>\n",
       "<style scoped>\n",
       "    .dataframe tbody tr th:only-of-type {\n",
       "        vertical-align: middle;\n",
       "    }\n",
       "\n",
       "    .dataframe tbody tr th {\n",
       "        vertical-align: top;\n",
       "    }\n",
       "\n",
       "    .dataframe thead th {\n",
       "        text-align: right;\n",
       "    }\n",
       "</style>\n",
       "<table border=\"1\" class=\"dataframe\">\n",
       "  <thead>\n",
       "    <tr style=\"text-align: right;\">\n",
       "      <th></th>\n",
       "      <th>Unnamed: 0.1</th>\n",
       "      <th>index</th>\n",
       "      <th>Unnamed: 0</th>\n",
       "      <th>name</th>\n",
       "      <th>claim date</th>\n",
       "      <th>claim source</th>\n",
       "      <th>claim</th>\n",
       "      <th>issue</th>\n",
       "      <th>accuracy rating</th>\n",
       "      <th>id.bioguide</th>\n",
       "      <th>...</th>\n",
       "      <th>start</th>\n",
       "      <th>end</th>\n",
       "      <th>state</th>\n",
       "      <th>full name</th>\n",
       "      <th>accuracy</th>\n",
       "      <th>claim date formatted</th>\n",
       "      <th>birthdate formatted</th>\n",
       "      <th>start formatted</th>\n",
       "      <th>end formatted</th>\n",
       "      <th>claimmer age</th>\n",
       "    </tr>\n",
       "  </thead>\n",
       "  <tbody>\n",
       "    <tr>\n",
       "      <th>0</th>\n",
       "      <td>0</td>\n",
       "      <td>2</td>\n",
       "      <td>2</td>\n",
       "      <td>Mark Kelly</td>\n",
       "      <td>August 5, 2022</td>\n",
       "      <td>an ad</td>\n",
       "      <td>Blake Masters “wants to pass a national ban on...</td>\n",
       "      <td>abortion</td>\n",
       "      <td>mostly-true</td>\n",
       "      <td>K000377</td>\n",
       "      <td>...</td>\n",
       "      <td>2/12/2020</td>\n",
       "      <td>3/1/2023</td>\n",
       "      <td>AZ</td>\n",
       "      <td>Mark Kelly</td>\n",
       "      <td>1</td>\n",
       "      <td>2022-08-05</td>\n",
       "      <td>1964-02-21</td>\n",
       "      <td>2020-12-02</td>\n",
       "      <td>2023-01-03</td>\n",
       "      <td>58</td>\n",
       "    </tr>\n",
       "    <tr>\n",
       "      <th>1</th>\n",
       "      <td>1</td>\n",
       "      <td>9</td>\n",
       "      <td>9</td>\n",
       "      <td>Mariannette Miller-Meeks</td>\n",
       "      <td>July 17, 2022</td>\n",
       "      <td>a newsletter</td>\n",
       "      <td>The Democrats’ Women’s Health Protection Act o...</td>\n",
       "      <td>abortion</td>\n",
       "      <td>barely-true</td>\n",
       "      <td>M001215</td>\n",
       "      <td>...</td>\n",
       "      <td>3/1/2021</td>\n",
       "      <td>3/1/2023</td>\n",
       "      <td>IA</td>\n",
       "      <td>Mariannette Miller-Meeks</td>\n",
       "      <td>0</td>\n",
       "      <td>2022-07-17</td>\n",
       "      <td>1955-09-06</td>\n",
       "      <td>2021-01-03</td>\n",
       "      <td>2023-01-03</td>\n",
       "      <td>67</td>\n",
       "    </tr>\n",
       "    <tr>\n",
       "      <th>2</th>\n",
       "      <td>2</td>\n",
       "      <td>25</td>\n",
       "      <td>25</td>\n",
       "      <td>Catherine Cortez Masto</td>\n",
       "      <td>June 14, 2022</td>\n",
       "      <td>an ad</td>\n",
       "      <td>Adam Laxalt \"supports eliminating Nevada's pro...</td>\n",
       "      <td>abortion</td>\n",
       "      <td>half-true</td>\n",
       "      <td>C001113</td>\n",
       "      <td>...</td>\n",
       "      <td>3/1/2017</td>\n",
       "      <td>3/1/2023</td>\n",
       "      <td>NV</td>\n",
       "      <td>Catherine Cortez Masto</td>\n",
       "      <td>0</td>\n",
       "      <td>2022-06-14</td>\n",
       "      <td>1964-03-29</td>\n",
       "      <td>2017-01-03</td>\n",
       "      <td>2023-01-03</td>\n",
       "      <td>58</td>\n",
       "    </tr>\n",
       "    <tr>\n",
       "      <th>3</th>\n",
       "      <td>3</td>\n",
       "      <td>28</td>\n",
       "      <td>28</td>\n",
       "      <td>Tammy Baldwin</td>\n",
       "      <td>May 4, 2022</td>\n",
       "      <td>TV interview</td>\n",
       "      <td>\"Our Supreme Court has never taken away a cons...</td>\n",
       "      <td>abortion</td>\n",
       "      <td>FALSE</td>\n",
       "      <td>B001230</td>\n",
       "      <td>...</td>\n",
       "      <td>6/1/1999</td>\n",
       "      <td>3/1/2001</td>\n",
       "      <td>WI</td>\n",
       "      <td>Tammy Baldwin</td>\n",
       "      <td>0</td>\n",
       "      <td>2022-05-04</td>\n",
       "      <td>1962-02-11</td>\n",
       "      <td>1999-01-06</td>\n",
       "      <td>2001-01-03</td>\n",
       "      <td>60</td>\n",
       "    </tr>\n",
       "    <tr>\n",
       "      <th>4</th>\n",
       "      <td>4</td>\n",
       "      <td>29</td>\n",
       "      <td>29</td>\n",
       "      <td>Ron Johnson</td>\n",
       "      <td>May 11, 2022</td>\n",
       "      <td>News release</td>\n",
       "      <td>In the immediate wake of a fire and vandalism ...</td>\n",
       "      <td>abortion</td>\n",
       "      <td>barely-true</td>\n",
       "      <td>J000293</td>\n",
       "      <td>...</td>\n",
       "      <td>5/1/2011</td>\n",
       "      <td>3/1/2017</td>\n",
       "      <td>WI</td>\n",
       "      <td>Ron Johnson</td>\n",
       "      <td>0</td>\n",
       "      <td>2022-05-11</td>\n",
       "      <td>1955-04-08</td>\n",
       "      <td>2011-01-05</td>\n",
       "      <td>2017-01-03</td>\n",
       "      <td>67</td>\n",
       "    </tr>\n",
       "    <tr>\n",
       "      <th>...</th>\n",
       "      <td>...</td>\n",
       "      <td>...</td>\n",
       "      <td>...</td>\n",
       "      <td>...</td>\n",
       "      <td>...</td>\n",
       "      <td>...</td>\n",
       "      <td>...</td>\n",
       "      <td>...</td>\n",
       "      <td>...</td>\n",
       "      <td>...</td>\n",
       "      <td>...</td>\n",
       "      <td>...</td>\n",
       "      <td>...</td>\n",
       "      <td>...</td>\n",
       "      <td>...</td>\n",
       "      <td>...</td>\n",
       "      <td>...</td>\n",
       "      <td>...</td>\n",
       "      <td>...</td>\n",
       "      <td>...</td>\n",
       "      <td>...</td>\n",
       "    </tr>\n",
       "    <tr>\n",
       "      <th>3953</th>\n",
       "      <td>6367</td>\n",
       "      <td>25801</td>\n",
       "      <td>25801</td>\n",
       "      <td>George Allen</td>\n",
       "      <td>July 21, 2012</td>\n",
       "      <td>a debate</td>\n",
       "      <td>The state government workforce grew when Tim K...</td>\n",
       "      <td>workers</td>\n",
       "      <td>barely-true</td>\n",
       "      <td>A000121</td>\n",
       "      <td>...</td>\n",
       "      <td>5/11/1991</td>\n",
       "      <td>3/1/1993</td>\n",
       "      <td>VA</td>\n",
       "      <td>George Allen</td>\n",
       "      <td>0</td>\n",
       "      <td>2012-07-21</td>\n",
       "      <td>1952-03-08</td>\n",
       "      <td>1991-11-05</td>\n",
       "      <td>1993-01-03</td>\n",
       "      <td>60</td>\n",
       "    </tr>\n",
       "    <tr>\n",
       "      <th>3954</th>\n",
       "      <td>6381</td>\n",
       "      <td>25882</td>\n",
       "      <td>25882</td>\n",
       "      <td>John Boehner</td>\n",
       "      <td>February 15, 2011</td>\n",
       "      <td>a press conference</td>\n",
       "      <td>\"Over the last two years since President Obama...</td>\n",
       "      <td>workers</td>\n",
       "      <td>FALSE</td>\n",
       "      <td>B000589</td>\n",
       "      <td>...</td>\n",
       "      <td>3/1/1991</td>\n",
       "      <td>3/1/1993</td>\n",
       "      <td>OH</td>\n",
       "      <td>John Boehner</td>\n",
       "      <td>0</td>\n",
       "      <td>2011-02-15</td>\n",
       "      <td>1949-11-17</td>\n",
       "      <td>1991-01-03</td>\n",
       "      <td>1993-01-03</td>\n",
       "      <td>62</td>\n",
       "    </tr>\n",
       "    <tr>\n",
       "      <th>3955</th>\n",
       "      <td>6384</td>\n",
       "      <td>25885</td>\n",
       "      <td>25885</td>\n",
       "      <td>Blake Farenthold</td>\n",
       "      <td>January 23, 2011</td>\n",
       "      <td>an oped</td>\n",
       "      <td>\"Despite claims that you can 'keep the health ...</td>\n",
       "      <td>workers</td>\n",
       "      <td>FALSE</td>\n",
       "      <td>F000460</td>\n",
       "      <td>...</td>\n",
       "      <td>5/1/2011</td>\n",
       "      <td>3/1/2013</td>\n",
       "      <td>TX</td>\n",
       "      <td>Blake Farenthold</td>\n",
       "      <td>0</td>\n",
       "      <td>2011-01-23</td>\n",
       "      <td>1961-12-12</td>\n",
       "      <td>2011-01-05</td>\n",
       "      <td>2013-01-03</td>\n",
       "      <td>50</td>\n",
       "    </tr>\n",
       "    <tr>\n",
       "      <th>3956</th>\n",
       "      <td>6394</td>\n",
       "      <td>25919</td>\n",
       "      <td>25919</td>\n",
       "      <td>Arlen Specter</td>\n",
       "      <td>March 24, 2009</td>\n",
       "      <td>a speech on the Senate floor</td>\n",
       "      <td>The Employee Free Choice Act mandates the \"eli...</td>\n",
       "      <td>workers</td>\n",
       "      <td>mostly-true</td>\n",
       "      <td>S000709</td>\n",
       "      <td>...</td>\n",
       "      <td>5/1/1981</td>\n",
       "      <td>3/1/1987</td>\n",
       "      <td>PA</td>\n",
       "      <td>Arlen Specter</td>\n",
       "      <td>1</td>\n",
       "      <td>2009-03-24</td>\n",
       "      <td>1930-02-12</td>\n",
       "      <td>1981-01-05</td>\n",
       "      <td>1987-01-03</td>\n",
       "      <td>79</td>\n",
       "    </tr>\n",
       "    <tr>\n",
       "      <th>3957</th>\n",
       "      <td>6395</td>\n",
       "      <td>25922</td>\n",
       "      <td>25922</td>\n",
       "      <td>Barack Obama</td>\n",
       "      <td>April 18, 2008</td>\n",
       "      <td>a television ad</td>\n",
       "      <td>Hillary Clinton is \"willing to have workers' w...</td>\n",
       "      <td>workers</td>\n",
       "      <td>half-true</td>\n",
       "      <td>O000167</td>\n",
       "      <td>...</td>\n",
       "      <td>4/1/2005</td>\n",
       "      <td>16/11/2008</td>\n",
       "      <td>IL</td>\n",
       "      <td>Barack Obama</td>\n",
       "      <td>0</td>\n",
       "      <td>2008-04-18</td>\n",
       "      <td>1961-08-04</td>\n",
       "      <td>2005-01-04</td>\n",
       "      <td>2008-11-16</td>\n",
       "      <td>47</td>\n",
       "    </tr>\n",
       "  </tbody>\n",
       "</table>\n",
       "<p>3958 rows × 25 columns</p>\n",
       "</div>"
      ],
      "text/plain": [
       "      Unnamed: 0.1  index  Unnamed: 0                      name  \\\n",
       "0                0      2           2                Mark Kelly   \n",
       "1                1      9           9  Mariannette Miller-Meeks   \n",
       "2                2     25          25    Catherine Cortez Masto   \n",
       "3                3     28          28             Tammy Baldwin   \n",
       "4                4     29          29               Ron Johnson   \n",
       "...            ...    ...         ...                       ...   \n",
       "3953          6367  25801       25801              George Allen   \n",
       "3954          6381  25882       25882              John Boehner   \n",
       "3955          6384  25885       25885          Blake Farenthold   \n",
       "3956          6394  25919       25919             Arlen Specter   \n",
       "3957          6395  25922       25922              Barack Obama   \n",
       "\n",
       "             claim date                  claim source  \\\n",
       "0        August 5, 2022                         an ad   \n",
       "1         July 17, 2022                  a newsletter   \n",
       "2         June 14, 2022                         an ad   \n",
       "3           May 4, 2022                  TV interview   \n",
       "4          May 11, 2022                  News release   \n",
       "...                 ...                           ...   \n",
       "3953      July 21, 2012                      a debate   \n",
       "3954  February 15, 2011            a press conference   \n",
       "3955   January 23, 2011                       an oped   \n",
       "3956     March 24, 2009  a speech on the Senate floor   \n",
       "3957     April 18, 2008               a television ad   \n",
       "\n",
       "                                                  claim     issue  \\\n",
       "0     Blake Masters “wants to pass a national ban on...  abortion   \n",
       "1     The Democrats’ Women’s Health Protection Act o...  abortion   \n",
       "2     Adam Laxalt \"supports eliminating Nevada's pro...  abortion   \n",
       "3     \"Our Supreme Court has never taken away a cons...  abortion   \n",
       "4     In the immediate wake of a fire and vandalism ...  abortion   \n",
       "...                                                 ...       ...   \n",
       "3953  The state government workforce grew when Tim K...   workers   \n",
       "3954  \"Over the last two years since President Obama...   workers   \n",
       "3955  \"Despite claims that you can 'keep the health ...   workers   \n",
       "3956  The Employee Free Choice Act mandates the \"eli...   workers   \n",
       "3957  Hillary Clinton is \"willing to have workers' w...   workers   \n",
       "\n",
       "     accuracy rating id.bioguide  ...      start         end state  \\\n",
       "0        mostly-true     K000377  ...  2/12/2020    3/1/2023    AZ   \n",
       "1        barely-true     M001215  ...   3/1/2021    3/1/2023    IA   \n",
       "2          half-true     C001113  ...   3/1/2017    3/1/2023    NV   \n",
       "3              FALSE     B001230  ...   6/1/1999    3/1/2001    WI   \n",
       "4        barely-true     J000293  ...   5/1/2011    3/1/2017    WI   \n",
       "...              ...         ...  ...        ...         ...   ...   \n",
       "3953     barely-true     A000121  ...  5/11/1991    3/1/1993    VA   \n",
       "3954           FALSE     B000589  ...   3/1/1991    3/1/1993    OH   \n",
       "3955           FALSE     F000460  ...   5/1/2011    3/1/2013    TX   \n",
       "3956     mostly-true     S000709  ...   5/1/1981    3/1/1987    PA   \n",
       "3957       half-true     O000167  ...   4/1/2005  16/11/2008    IL   \n",
       "\n",
       "                     full name accuracy claim date formatted  \\\n",
       "0                   Mark Kelly        1           2022-08-05   \n",
       "1     Mariannette Miller-Meeks        0           2022-07-17   \n",
       "2       Catherine Cortez Masto        0           2022-06-14   \n",
       "3                Tammy Baldwin        0           2022-05-04   \n",
       "4                  Ron Johnson        0           2022-05-11   \n",
       "...                        ...      ...                  ...   \n",
       "3953              George Allen        0           2012-07-21   \n",
       "3954              John Boehner        0           2011-02-15   \n",
       "3955          Blake Farenthold        0           2011-01-23   \n",
       "3956             Arlen Specter        1           2009-03-24   \n",
       "3957              Barack Obama        0           2008-04-18   \n",
       "\n",
       "     birthdate formatted start formatted end formatted  claimmer age  \n",
       "0             1964-02-21      2020-12-02    2023-01-03            58  \n",
       "1             1955-09-06      2021-01-03    2023-01-03            67  \n",
       "2             1964-03-29      2017-01-03    2023-01-03            58  \n",
       "3             1962-02-11      1999-01-06    2001-01-03            60  \n",
       "4             1955-04-08      2011-01-05    2017-01-03            67  \n",
       "...                  ...             ...           ...           ...  \n",
       "3953          1952-03-08      1991-11-05    1993-01-03            60  \n",
       "3954          1949-11-17      1991-01-03    1993-01-03            62  \n",
       "3955          1961-12-12      2011-01-05    2013-01-03            50  \n",
       "3956          1930-02-12      1981-01-05    1987-01-03            79  \n",
       "3957          1961-08-04      2005-01-04    2008-11-16            47  \n",
       "\n",
       "[3958 rows x 25 columns]"
      ]
     },
     "execution_count": 90,
     "metadata": {},
     "output_type": "execute_result"
    }
   ],
   "source": [
    "# drop rows with these politicians who have alr passed on by index - abnormal_age_idx\n",
    "df1.drop(abnormal_age_idx, inplace=True)\n",
    "# reset df2 index\n",
    "df1.reset_index(drop=True)"
   ]
  },
  {
   "cell_type": "markdown",
   "metadata": {},
   "source": [
    "## Train Test Split"
   ]
  },
  {
   "cell_type": "markdown",
   "metadata": {},
   "source": [
    "<div class=\"alert alert-warning\">\n",
    "    \n",
    "- To split the data into train and test datasets prior to applying countvectorizer / tfidfvectorizer/ other feature engineering steps to prevent data leakage.\n",
    "    \n",
    "    Reference:\n",
    "- https://stackoverflow.com/questions/54491953/can-i-use-countvectorizer-on-both-test-and-train-data-at-the-same-time-or-do-i-n\n",
    "- https://stackoverflow.com/questions/49444262/normalize-data-before-or-after-split-of-training-and-testing-data"
   ]
  },
  {
   "cell_type": "code",
   "execution_count": 91,
   "metadata": {},
   "outputs": [],
   "source": [
    "from sklearn.model_selection import train_test_split\n",
    "\n",
    "# Set \"accuracy\" as the y variable\n",
    "y = df1[\"accuracy\"] \n",
    "\n",
    "# Set everything other than accuracy as the X variables\n",
    "X = df1.drop(columns=[\"accuracy\"]) \n",
    "\n",
    "X_train, X_test, y_train, y_test = train_test_split(X, y, stratify=y,test_size=0.30, random_state=42)"
   ]
  },
  {
   "cell_type": "markdown",
   "metadata": {},
   "source": [
    "### CountVectorizer `claim`"
   ]
  },
  {
   "cell_type": "code",
   "execution_count": 92,
   "metadata": {},
   "outputs": [
    {
     "data": {
      "text/plain": [
       "((1188, 6186), (1188, 6186))"
      ]
     },
     "execution_count": 92,
     "metadata": {},
     "output_type": "execute_result"
    }
   ],
   "source": [
    "# https://stackoverflow.com/questions/52972368/select-top-n-tfidf-features-for-a-given-document\n",
    "\n",
    "train_claim = X_train['claim']\n",
    "test_claim = X_test['claim']\n",
    "\n",
    "from sklearn.feature_extraction.text import TfidfVectorizer\n",
    "tfidf_claim_vec = TfidfVectorizer(lowercase=False, stop_words=\"english\")\n",
    "tfidf_claim_vec.fit(train_claim)\n",
    "tfidf_claim_vec_train = tfidf_claim_vec.transform(train_claim).toarray()\n",
    "tfidf_claim_vec_test = tfidf_claim_vec.transform(test_claim).toarray()\n",
    "\n",
    "tfidf_claim_vec_test.shape,tfidf_claim_vec_test.shape"
   ]
  },
  {
   "cell_type": "markdown",
   "metadata": {},
   "source": [
    "### Subjectivity of `claim`"
   ]
  },
  {
   "cell_type": "code",
   "execution_count": 93,
   "metadata": {},
   "outputs": [
    {
     "data": {
      "image/png": "[encoded data removed]",
      "text/plain": [
       "<Figure size 640x480 with 1 Axes>"
      ]
     },
     "metadata": {},
     "output_type": "display_data"
    }
   ],
   "source": [
    "from textblob import TextBlob\n",
    "X_train['claim subjectivity'] = X_train['claim'].apply(lambda x:TextBlob(x).sentiment.subjectivity)\n",
    "X_test['claim subjectivity']  = X_test['claim'].apply(lambda x:TextBlob(x).sentiment.subjectivity)\n",
    "import seaborn as sns\n",
    "import matplotlib.pyplot as plt\n",
    "sns.kdeplot(x=\"claim subjectivity\", data=X_train[y_train==0])\n",
    "sns.kdeplot(x=\"claim subjectivity\", data=X_train[y_train==1])\n",
    "plt.legend(['real','fake'])\n",
    "plt.show()"
   ]
  },
  {
   "cell_type": "markdown",
   "metadata": {},
   "source": [
    "### CountVectorizer `claim source`"
   ]
  },
  {
   "cell_type": "code",
   "execution_count": 94,
   "metadata": {},
   "outputs": [
    {
     "data": {
      "text/plain": [
       "3340                                              a tweet\n",
       "3346                                              a tweet\n",
       "1547    the Republican response to the State of the Un...\n",
       "950                             an interview on This Week\n",
       "3054                                       a TV interview\n",
       "                              ...                        \n",
       "1233               a speech to the City Club of Cleveland\n",
       "467                                    a press conference\n",
       "4497                a speech at the Democratic convention\n",
       "3490                         a speech to business leaders\n",
       "4713                                             a speech\n",
       "Name: claim source, Length: 2770, dtype: object"
      ]
     },
     "execution_count": 94,
     "metadata": {},
     "output_type": "execute_result"
    }
   ],
   "source": [
    "X_train['claim source']"
   ]
  },
  {
   "cell_type": "code",
   "execution_count": 95,
   "metadata": {},
   "outputs": [
    {
     "data": {
      "text/plain": [
       "(2770, 888)"
      ]
     },
     "execution_count": 95,
     "metadata": {},
     "output_type": "execute_result"
    }
   ],
   "source": [
    "from sklearn.feature_extraction.text import CountVectorizer\n",
    "vectorizer_src = CountVectorizer(stop_words='english', lowercase=True)\n",
    "vectorizer_src.fit(X_train['claim source'].values)\n",
    "src_vec_train = vectorizer_src.transform(X_train['claim source']) # fit & transform on train\n",
    "\n",
    "# only transform on test\n",
    "src_vec_test = vectorizer_src.transform(X_test['claim source'].values)\n",
    "\n",
    "src_vec_train.shape"
   ]
  },
  {
   "cell_type": "markdown",
   "metadata": {},
   "source": [
    "### One-Hot Encoding (OHE) for Categorical Features\n",
    "\n",
    "- apply on categorical features: ['issue', 'state', 'bio.gender', 'type', 'party']"
   ]
  },
  {
   "cell_type": "markdown",
   "metadata": {},
   "source": [
    "#### OHE all categorical variables tgt"
   ]
  },
  {
   "cell_type": "code",
   "execution_count": 96,
   "metadata": {},
   "outputs": [],
   "source": [
    "from sklearn.compose import make_column_transformer, ColumnTransformer\n",
    "from sklearn.pipeline import Pipeline\n",
    "from sklearn.preprocessing import OneHotEncoder\n",
    "from sklearn.linear_model import LogisticRegression\n",
    "from sklearn.model_selection import cross_val_score, cross_validate\n",
    "from sklearn.metrics import classification_report, confusion_matrix"
   ]
  },
  {
   "cell_type": "code",
   "execution_count": 97,
   "metadata": {},
   "outputs": [],
   "source": [
    "categorical_variables = ['issue', 'state', 'bio.gender', 'type', 'party']\n",
    "\n",
    "X_train_categorical = X_train[categorical_variables]\n",
    "X_test_categorical = X_test[categorical_variables]\n",
    "\n",
    "# One-hot encoding\n",
    "enc_lr = OneHotEncoder(handle_unknown=\"ignore\")\n",
    "\n",
    "transformer_lr = make_column_transformer((enc_lr, categorical_variables), remainder=\"passthrough\")\n",
    "X_train_categorical = transformer_lr.fit_transform(X_train_categorical)\n",
    "X_test_categorical = transformer_lr.transform(X_test_categorical)\n",
    "\n",
    "age_train = X_train['claimmer age'].values.reshape(-1,1)\n",
    "age_test = X_test['claimmer age'].values.reshape(-1,1)\n",
    "subjectivity_train = X_train['claim subjectivity'].values.reshape(-1,1)\n",
    "subjectivity_test = X_test['claim subjectivity'].values.reshape(-1,1)\n",
    "\n",
    "X_train_vec = np.hstack([age_train, subjectivity_train, src_vec_train.toarray(),tfidf_claim_vec_train])\n",
    "X_test_vec = np.hstack([age_test, subjectivity_test, src_vec_test.toarray(),tfidf_claim_vec_test])\n",
    "\n",
    "# then combine with the numerical matrices of the other features \n",
    "X_train_combined = np.hstack([X_train_vec, X_train_categorical.toarray()])\n",
    "X_test_combined = np.hstack([X_test_vec, X_test_categorical.toarray()])"
   ]
  },
  {
   "cell_type": "code",
   "execution_count": 98,
   "metadata": {},
   "outputs": [],
   "source": [
    "columns = ['claimmer age','claim subjectivity']\n",
    "columns.extend(list(vectorizer_src.vocabulary_.keys()))\n",
    "columns.extend(list(tfidf_claim_vec.vocabulary_.keys()))\n",
    "lr_cols = transformer_lr.transformers_[0][1].categories_ #issue, state, bio.gender, type, party\n",
    "for i in range(5):\n",
    "    columns.extend(lr_cols[i])\n"
   ]
  },
  {
   "cell_type": "code",
   "execution_count": 99,
   "metadata": {},
   "outputs": [
    {
     "data": {
      "text/plain": [
       "7209"
      ]
     },
     "execution_count": 99,
     "metadata": {},
     "output_type": "execute_result"
    }
   ],
   "source": [
    "columns.__len__()"
   ]
  },
  {
   "cell_type": "code",
   "execution_count": 100,
   "metadata": {},
   "outputs": [
    {
     "data": {
      "text/plain": [
       "((2770, 7209), (1188, 7209))"
      ]
     },
     "execution_count": 100,
     "metadata": {},
     "output_type": "execute_result"
    }
   ],
   "source": [
    "X_train_combined.shape, X_test_combined.shape"
   ]
  },
  {
   "cell_type": "code",
   "execution_count": 101,
   "metadata": {},
   "outputs": [
    {
     "data": {
      "text/plain": [
       "((2770,), (2770, 7209))"
      ]
     },
     "execution_count": 101,
     "metadata": {},
     "output_type": "execute_result"
    }
   ],
   "source": [
    "y_train.shape,X_train_combined.shape"
   ]
  },
  {
   "cell_type": "code",
   "execution_count": 102,
   "metadata": {},
   "outputs": [],
   "source": [
    "df_train = pd.DataFrame(data=X_train_combined, columns=columns)\n",
    "df_train['accuracy'] = y_train.values\n",
    "df_train.to_csv(\"train bio.csv\")\n",
    "df_test = pd.DataFrame(data=X_test_combined, columns=columns)\n",
    "df_test['accuracy'] = y_test.values\n",
    "df_test.to_csv(\"test bio.csv\")"
   ]
  }
 ],
 "metadata": {
  "kernelspec": {
   "display_name": "Python 3.10.5 ('dv')",
   "language": "python",
   "name": "python3"
  },
  "language_info": {
   "codemirror_mode": {
    "name": "ipython",
    "version": 3
   },
   "file_extension": ".py",
   "mimetype": "text/x-python",
   "name": "python",
   "nbconvert_exporter": "python",
   "pygments_lexer": "ipython3",
   "version": "3.10.5"
  },
  "orig_nbformat": 4,
  "vscode": {
   "interpreter": {
    "hash": "b8ead93ed9399704b5b8a24b10b267ad35edbd66a38c13af24b1cd0d9afaecbd"
   }
  }
 },
 "nbformat": 4,
 "nbformat_minor": 2
}
