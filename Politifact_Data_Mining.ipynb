{
 "cells": [
  {
   "cell_type": "code",
   "execution_count": null,
   "metadata": {
    "id": "bNPz7sX1ovlS"
   },
   "outputs": [],
   "source": [
    "from bs4 import BeautifulSoup\n",
    "import requests\n",
    "import pandas as pd\n",
    "import string\n",
    "import json\n",
    "import time\n",
    "import random"
   ]
  },
  {
   "cell_type": "code",
   "execution_count": null,
   "metadata": {
    "id": "KXp8125jqFeY"
   },
   "outputs": [],
   "source": [
    "def get_html_page(page_url):\n",
    "    res = requests.get(page_url)\n",
    "    return BeautifulSoup(res.content, \"html.parser\")"
   ]
  },
  {
   "cell_type": "markdown",
   "metadata": {
    "id": "gRIdsjavqGy9"
   },
   "source": [
    "## 1. Gather all the issues"
   ]
  },
  {
   "cell_type": "code",
   "execution_count": null,
   "metadata": {
    "id": "cv_EvWVuqOar"
   },
   "outputs": [],
   "source": [
    "issues_url = \"https://www.politifact.com/issues/\"\n",
    "issues_soup = get_html_page(issues_url)\n",
    "\n",
    "issues_tables = issues_soup.find_all('ul', class_='m-list m-list--columns m-list--breezy')\n",
    "\n",
    "all_issues = []\n",
    "for table in issues_tables:\n",
    "    table_issues = table.find_all('li', class_='m-list__item')\n",
    "    for issue in table_issues:\n",
    "        all_issues.append(issue.text.strip().lower())"
   ]
  },
  {
   "cell_type": "code",
   "execution_count": null,
   "metadata": {
    "colab": {
     "base_uri": "https://localhost:8080/"
    },
    "id": "blepClLpqShr",
    "outputId": "d67fcc3e-f380-476b-d627-5a50a551949d"
   },
   "outputs": [
    {
     "data": {
      "text/plain": [
       "154"
      ]
     },
     "execution_count": 5,
     "metadata": {},
     "output_type": "execute_result"
    }
   ],
   "source": [
    "len(all_issues)"
   ]
  },
  {
   "cell_type": "markdown",
   "metadata": {
    "id": "8KePPvJOqY2F"
   },
   "source": [
    "## 2. Scrape data from each page of every issue (if any)"
   ]
  },
  {
   "cell_type": "code",
   "execution_count": null,
   "metadata": {
    "id": "sZ9NLIzSqhUh"
   },
   "outputs": [],
   "source": [
    "curr_data = []\n",
    "for issue in all_issues:\n",
    "\n",
    "    curr_page_num = 1\n",
    "    \n",
    "    while True:\n",
    "        curr_url = f\"https://www.politifact.com/factchecks/list/?page={curr_page_num}&category={issue}\"\n",
    "\n",
    "        soup = get_html_page(curr_url)\n",
    "        try:\n",
    "            curr_page = soup.find('ul', class_='o-listicle__list').find_all('li')\n",
    "        except:\n",
    "            #print(f'{issue}: no results found on page {curr_page_num}')\n",
    "            #print('-------------------------------------------------------')\n",
    "            time.sleep(5)\n",
    "            break\n",
    "\n",
    "        anyContent = len(curr_page)\n",
    "        #print(f'{issue}: page {curr_page_num} has {anyContent} listings.')\n",
    "\n",
    "        for listing in curr_page:\n",
    "            name = listing.find('a', class_='m-statement__name').text.strip()\n",
    "            claim_details = listing.find('div', class_='m-statement__desc').text\n",
    "            claim_date = claim_details.split('on ')[1].split(' in')[0]\n",
    "            try:\n",
    "                claim_source = claim_details.split(' in ')[1].translate(str.maketrans('', '', string.punctuation)).strip() # remove punctuation\n",
    "            except:\n",
    "                claim_source = 'NA' # e.g. 'stated on [date]:'\n",
    "            claim = listing.find('div', class_='m-statement__quote').text.strip()\n",
    "            accuracy_rating = listing.find('img', class_='c-image__original', alt= True).get('alt')\n",
    "            # fact_check_details = listing.find('footer', class_='m-statement__footer').text.strip().split(' • ')\n",
    "            # try:\n",
    "            #     fact_checker = fact_check_details[0].split('By ')[1]\n",
    "            # except:\n",
    "            #     fact_checker = 'NA'\n",
    "            # fact_check_date = fact_check_details[1]\n",
    "            # source_url = 'https://www.politifact.com' + listing.find('div', class_='m-statement__quote').a.get('href') \n",
    "\n",
    "            row = {\n",
    "                \"name\": name,\n",
    "                \"claim_date\": claim_date,\n",
    "                \"claim_source\": claim_source,\n",
    "                \"claim\": claim,\n",
    "                'issue': issue,\n",
    "                \"accuracy rating\": accuracy_rating,\n",
    "                # \"fact checker\": fact_checker,\n",
    "                # \"fact check ruling date\": fact_check_date,\n",
    "                # \"url\": source_url,\n",
    "                # \"page_num\": curr_page_num,\n",
    "            }\n",
    "\n",
    "            curr_data.append(row)\n",
    "\n",
    "        curr_page_num+=1\n",
    "\n",
    "        time.sleep(random.randint(5,10)) # script will be stopped for 5-10 seconds"
   ]
  },
  {
   "cell_type": "markdown",
   "metadata": {
    "id": "JGZV2t62q_Mm"
   },
   "source": [
    "## 3. Convert data to Pandas dataframe"
   ]
  },
  {
   "cell_type": "code",
   "execution_count": null,
   "metadata": {
    "colab": {
     "base_uri": "https://localhost:8080/"
    },
    "id": "FNe66iZTqu7J",
    "outputId": "3558b218-32c9-4225-d932-28319ab78cc4"
   },
   "outputs": [
    {
     "data": {
      "text/plain": [
       "<bound method NDFrame.head of                      name       claim date  \\\n",
       "0            CatholicVote  August 17, 2022   \n",
       "1              Mark Kelly   August 5, 2022   \n",
       "2           Stacey Abrams   August 4, 2022   \n",
       "3           Beto O'Rourke    June 27, 2022   \n",
       "4      Karine Jean-Pierre   August 3, 2022   \n",
       "...                   ...              ...   \n",
       "26200        Barack Obama     May 27, 2009   \n",
       "26201       Arlen Specter   March 24, 2009   \n",
       "26202      Michelle Obama  August 25, 2008   \n",
       "26203      Michelle Obama  August 25, 2008   \n",
       "26204        Barack Obama   April 18, 2008   \n",
       "\n",
       "                                            claim source  \\\n",
       "0                                                  an ad   \n",
       "1                                                  an ad   \n",
       "2                                                  an ad   \n",
       "3                                      an Instagram post   \n",
       "4                                 a White House briefing   \n",
       "...                                                  ...   \n",
       "26200                                           a speech   \n",
       "26201                       a speech on the Senate floor   \n",
       "26202  her address at the Democratic National Convention   \n",
       "26203                                             Denver   \n",
       "26204                                    a television ad   \n",
       "\n",
       "                                                   claim     issue  \\\n",
       "0      Three churches were targeted during arson atta...  abortion   \n",
       "1      Blake Masters “wants to pass a national ban on...  abortion   \n",
       "2      \"Brian Kemp wants to investigate and punish wo...  abortion   \n",
       "3      \"Under Abbott, Texas leads the nation in rape ...  abortion   \n",
       "4      Overturning Roe v. Wade was an “unconstitution...  abortion   \n",
       "...                                                  ...       ...   \n",
       "26200  In the 100 days since its passage, the economi...   workers   \n",
       "26201  The Employee Free Choice Act mandates the \"eli...   workers   \n",
       "26202  As a state senator in Illinois, Obama made sur...   workers   \n",
       "26203  While in the Illinois Senate, Barack Obama pas...   workers   \n",
       "26204  Hillary Clinton is \"willing to have workers' w...   workers   \n",
       "\n",
       "      accuracy rating         fact checker fact check ruling date  \\\n",
       "0         barely-true        Tom Kertscher      September 1, 2022   \n",
       "1         mostly-true        Tom Kertscher        August 26, 2022   \n",
       "2               false        Tom Kertscher        August 12, 2022   \n",
       "3         mostly-true        Nusaiba Mizan         August 9, 2022   \n",
       "4               false       Louis Jacobson         August 8, 2022   \n",
       "...               ...                  ...                    ...   \n",
       "26200     barely-true  Angie Drobnic Holan           May 29, 2009   \n",
       "26201     mostly-true       Alexander Lane         March 27, 2009   \n",
       "26202     mostly-true        Richard Rubin        August 26, 2008   \n",
       "26203     mostly-true  Angie Drobnic Holan        August 25, 2008   \n",
       "26204       half-true  Angie Drobnic Holan         April 21, 2008   \n",
       "\n",
       "                                                     url  page_num  \n",
       "0      https://www.politifact.com/factchecks/2022/sep...         1  \n",
       "1      https://www.politifact.com/factchecks/2022/aug...         1  \n",
       "2      https://www.politifact.com/factchecks/2022/aug...         1  \n",
       "3      https://www.politifact.com/factchecks/2022/aug...         1  \n",
       "4      https://www.politifact.com/factchecks/2022/aug...         1  \n",
       "...                                                  ...       ...  \n",
       "26200  https://www.politifact.com/factchecks/2009/may...        15  \n",
       "26201  https://www.politifact.com/factchecks/2009/mar...        15  \n",
       "26202  https://www.politifact.com/factchecks/2008/aug...        15  \n",
       "26203  https://www.politifact.com/factchecks/2008/aug...        15  \n",
       "26204  https://www.politifact.com/factchecks/2008/apr...        15  \n",
       "\n",
       "[26205 rows x 10 columns]>"
      ]
     },
     "execution_count": 7,
     "metadata": {},
     "output_type": "execute_result"
    }
   ],
   "source": [
    "curr_data_df = pd.DataFrame(curr_data)\n",
    "curr_data_df.head"
   ]
  },
  {
   "cell_type": "code",
   "execution_count": null,
   "metadata": {
    "colab": {
     "base_uri": "https://localhost:8080/"
    },
    "id": "C6WUDLRzmuJn",
    "outputId": "1b8813de-d920-4829-9f6b-5214ddfcf5e2"
   },
   "outputs": [
    {
     "data": {
      "text/plain": [
       "(26202, 10)"
      ]
     },
     "execution_count": 8,
     "metadata": {},
     "output_type": "execute_result"
    }
   ],
   "source": [
    "curr_data_df.shape"
   ]
  },
  {
   "cell_type": "markdown",
   "metadata": {},
   "source": [
    "## 4. Remove Invalid Accuracy Ratings"
   ]
  },
  {
   "cell_type": "code",
   "execution_count": null,
   "metadata": {},
   "outputs": [],
   "source": [
    "# drop all rows with invalid accuracy rating values \n",
    "drop_values = ['full-flop', 'half-flip', 'no-flip']\n",
    "curr_data_df = curr_data_df[~curr_data_df['accuracy rating'].isin(drop_values)]"
   ]
  },
  {
   "cell_type": "markdown",
   "metadata": {
    "id": "2n9fk9xWmSQl"
   },
   "source": [
    "## 5. Save data to csv file"
   ]
  },
  {
   "cell_type": "code",
   "execution_count": null,
   "metadata": {
    "id": "wuyE1WzJrDBz"
   },
   "outputs": [],
   "source": [
    "curr_data_df.to_csv('politifact_data.csv', index=False, encoding = 'utf-8-sig')"
   ]
  }
 ],
 "metadata": {
  "colab": {
   "collapsed_sections": [],
   "provenance": []
  },
  "kernelspec": {
   "display_name": "Python 3 (ipykernel)",
   "language": "python",
   "name": "python3"
  },
  "language_info": {
   "codemirror_mode": {
    "name": "ipython",
    "version": 3
   },
   "file_extension": ".py",
   "mimetype": "text/x-python",
   "name": "python",
   "nbconvert_exporter": "python",
   "pygments_lexer": "ipython3",
   "version": "3.9.12"
  },
  "vscode": {
   "interpreter": {
    "hash": "81794d4967e6c3204c66dcd87b604927b115b27c00565d3d43f05ba2f3a2cb0d"
   }
  }
 },
 "nbformat": 4,
 "nbformat_minor": 1
}
